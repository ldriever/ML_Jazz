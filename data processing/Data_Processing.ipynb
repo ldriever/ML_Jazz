{
 "cells": [
  {
   "cell_type": "code",
   "execution_count": 1,
   "id": "9bd65b63-70c4-4c57-a2cc-6b96d4e5f8a2",
   "metadata": {},
   "outputs": [
    {
     "data": {
      "text/plain": [
       "'\\nThis notebook is used for processing the data from the Weimar Jazz Database (WJazzD).\\n\\nThe code below produces the following output:\\n- data_array         : processed data to be fed into the model\\n- output_options     : collection of all processed unique chords\\n- all_chords_quality : dictionairy of all chord notations to their associative chord quality\\n- missing_melids     : record of all melids with 0 or 1 chord in the solo only\\n\\nPlease see the gitHub repository https://github.com/ldriever/ML_Jazz/ for further information on the project and\\nfurther information about running this notebook.\\n'"
      ]
     },
     "execution_count": 1,
     "metadata": {},
     "output_type": "execute_result"
    }
   ],
   "source": [
    "'''\n",
    "This notebook is used for processing the data from the Weimar Jazz Database (WJazzD).\n",
    "\n",
    "The code below produces the following output:\n",
    "- data_array         : processed data to be fed into the model\n",
    "- output_options     : collection of all processed unique chords\n",
    "- all_chords_quality : dictionairy of all chord notations to their associative chord quality\n",
    "- missing_melids     : record of all melids with 0 or 1 chord in the solo only\n",
    "\n",
    "Please see the gitHub repository https://github.com/ldriever/ML_Jazz/ for further information on the project and\n",
    "further information about running this notebook.\n",
    "'''"
   ]
  },
  {
   "cell_type": "code",
   "execution_count": 2,
   "id": "91c1bcc5-f989-410d-82b6-918ab48f1b62",
   "metadata": {},
   "outputs": [],
   "source": [
    "# First import all of the necessary libraries and helper functions\n",
    "from data_maker import make_data_array"
   ]
  },
  {
   "cell_type": "code",
   "execution_count": 3,
   "id": "643d397a-d796-4c61-a4d7-66f019adfd9b",
   "metadata": {},
   "outputs": [
    {
     "name": "stdout",
     "output_type": "stream",
     "text": [
      "\n",
      "melody_info = True:\n",
      "Current melid: 1\n",
      "Current melid: 10001\n",
      "Current melid: 20001\n",
      "Current melid: 30001\n",
      "Current melid: 40001\n",
      "Current melid: 50001\n",
      "Current melid: 60001\n",
      "Current melid: 70001\n",
      "Current melid: 80001\n",
      "Current melid: 90001\n",
      "Current melid: 100001\n",
      "Current melid: 110001\n",
      "Current melid: 120001\n",
      "Current melid: 130001\n"
     ]
    }
   ],
   "source": [
    "# Change the argument to melody_info = False to retrieve the data for the chord-only model\n",
    "data_array, output_options, all_chords_quality, missing_melids = make_data_array(\"datasets\", \"wjazzd.db\", melody_info = True)"
   ]
  }
 ],
 "metadata": {
  "kernelspec": {
   "display_name": "Python 3 (ipykernel)",
   "language": "python",
   "name": "python3"
  },
  "language_info": {
   "codemirror_mode": {
    "name": "ipython",
    "version": 3
   },
   "file_extension": ".py",
   "mimetype": "text/x-python",
   "name": "python",
   "nbconvert_exporter": "python",
   "pygments_lexer": "ipython3",
   "version": "3.8.11"
  }
 },
 "nbformat": 4,
 "nbformat_minor": 5
}
